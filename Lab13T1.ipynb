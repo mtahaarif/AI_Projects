{
 "cells": [
  {
   "cell_type": "markdown",
   "id": "d7821076",
   "metadata": {},
   "source": [
    "### Import the Libraries"
   ]
  },
  {
   "cell_type": "code",
   "execution_count": 54,
   "id": "0f67fa90",
   "metadata": {},
   "outputs": [],
   "source": [
    "import cv2\n",
    "import numpy as np\n",
    "import matplotlib.pyplot as plt\n",
    "import pandas as pd\n",
    "from sklearn.metrics import classification_report, accuracy_score, confusion_matrix\n",
    "from sklearn.model_selection import train_test_split\n",
    "from sklearn.preprocessing import StandardScaler\n",
    "import seaborn as sns"
   ]
  },
  {
   "cell_type": "markdown",
   "id": "5b4e2ebd",
   "metadata": {},
   "source": [
    "### Read the CSV File"
   ]
  },
  {
   "cell_type": "code",
   "execution_count": 20,
   "id": "a9c09f0b",
   "metadata": {},
   "outputs": [
    {
     "name": "stdout",
     "output_type": "stream",
     "text": [
      "(485, 'Inward'),\n",
      "(486, 'Inward'),\n",
      "(487, 'Inward'),\n",
      "(488, 'Inward'),\n",
      "(489, 'Inward'),\n",
      "(490, 'Inward'),\n",
      "(491, 'Inward'),\n",
      "(492, 'Inward'),\n",
      "(493, 'Inward'),\n",
      "(494, 'Inward'),\n",
      "(495, 'Inward'),\n",
      "(496, 'Inward'),\n",
      "(497, 'Inward'),\n",
      "(498, 'Inward'),\n",
      "(499, 'Inward'),\n",
      "(500, 'Inward'),\n",
      "(501, 'Inward'),\n",
      "(502, 'Inward'),\n",
      "(503, 'Inward'),\n",
      "(504, 'Inward'),\n",
      "(505, 'Inward'),\n",
      "(506, 'Inward'),\n"
     ]
    },
    {
     "name": "stderr",
     "output_type": "stream",
     "text": [
      "C:\\Users\\tahaa\\AppData\\Local\\Temp\\ipykernel_23912\\841031520.py:14: FutureWarning: Series.__getitem__ treating keys as positions is deprecated. In a future version, integer keys will always be treated as labels (consistent with DataFrame behavior). To access a value by position, use `ser.iloc[pos]`\n",
      "  formatted_row = f\"({int(row[0])}, \\'{row[1]}\\'),\"\n"
     ]
    }
   ],
   "source": [
    "#data = pd.read_csv('Iris.csv').to_numpy()\n",
    "\n",
    "import pandas as pd\n",
    "\n",
    "# Load the CSV file\n",
    "df = pd.read_csv(r\"E:\\Documents\\6th Semester\\DIP\\Lab\\Lab13\\DBE_Project.csv\")\n",
    "\n",
    "# Ensure we only process up to 98 rows\n",
    "rows_to_process = min(98, len(df))\n",
    "\n",
    "# Loop through the rows\n",
    "for i in range(75,97):\n",
    "    row = df.iloc[i]\n",
    "    formatted_row = f\"({int(row[0])}, \\'{row[1]}\\'),\"\n",
    "    print(formatted_row)\n"
   ]
  },
  {
   "cell_type": "markdown",
   "id": "6855bcde",
   "metadata": {},
   "source": [
    "### Training for Iris-setosa\n"
   ]
  },
  {
   "cell_type": "code",
   "execution_count": 56,
   "id": "55c900ab",
   "metadata": {},
   "outputs": [],
   "source": [
    "SepalLength=0\n",
    "SepalWidth=0\n",
    "PetalLength=0\n",
    "PetalWidth=0\n",
    "for i in range (40):\n",
    "    SepalLength+=data[i][1]\n",
    "    SepalWidth+=data[i][2]\n",
    "    PetalLength+=data[i][3]\n",
    "    PetalWidth+=data[i][4]\n",
    "\n",
    "SepalLength/=40\n",
    "SepalWidth/=40\n",
    "PetalLength/=40\n",
    "PetalWidth/=40\n",
    "Iris_setosa=[[SepalLength,SepalWidth,PetalLength,PetalWidth]]\n",
    "Iris_setosa=pd.DataFrame(Iris_setosa)\n",
    "headings=[['SepalLength','SepalWidth','PetalLength','PetalWidth']]\n",
    "headings=pd.DataFrame(headings)\n",
    "headings.to_csv('output.csv', mode='a', index=False, header=False)\n",
    "Iris_setosa.to_csv('output.csv', mode='a', index=False, header=False)\n",
    "\n"
   ]
  },
  {
   "cell_type": "markdown",
   "id": "86aa6795",
   "metadata": {},
   "source": [
    "### Training for Iris-versicolor"
   ]
  },
  {
   "cell_type": "code",
   "execution_count": 57,
   "id": "bd6b6610",
   "metadata": {},
   "outputs": [],
   "source": [
    "SepalLength=0\n",
    "SepalWidth=0\n",
    "PetalLength=0\n",
    "PetalWidth=0\n",
    "for i in range (50,90):\n",
    "    SepalLength+=data[i][1]\n",
    "    SepalWidth+=data[i][2]\n",
    "    PetalLength+=data[i][3]\n",
    "    PetalWidth+=data[i][4]\n",
    "\n",
    "SepalLength/=40\n",
    "SepalWidth/=40\n",
    "PetalLength/=40\n",
    "PetalWidth/=40\n",
    "Iris_versicolor=[[SepalLength,SepalWidth,PetalLength,PetalWidth]]\n",
    "Iris_versicolor=pd.DataFrame(Iris_versicolor)\n",
    "Iris_versicolor.to_csv('output.csv', mode='a', index=False, header=False)\n",
    "\n"
   ]
  },
  {
   "cell_type": "markdown",
   "id": "7c7ac88f",
   "metadata": {},
   "source": [
    "### Training for Iris-virginica"
   ]
  },
  {
   "cell_type": "code",
   "execution_count": 58,
   "id": "90fabc9f",
   "metadata": {},
   "outputs": [],
   "source": [
    "SepalLength=0\n",
    "SepalWidth=0\n",
    "PetalLength=0\n",
    "PetalWidth=0\n",
    "for i in range (100,140):\n",
    "    SepalLength+=data[i][1]\n",
    "    SepalWidth+=data[i][2]\n",
    "    PetalLength+=data[i][3]\n",
    "    PetalWidth+=data[i][4]\n",
    "\n",
    "SepalLength/=40\n",
    "SepalWidth/=40\n",
    "PetalLength/=40\n",
    "PetalWidth/=40\n",
    "Iris_virginica=[[SepalLength,SepalWidth,PetalLength,PetalWidth]]\n",
    "Iris_virginica=pd.DataFrame(Iris_virginica)\n",
    "Iris_virginica.to_csv('output.csv', mode='a', index=False, header=False)"
   ]
  },
  {
   "cell_type": "markdown",
   "id": "61e8a1b4",
   "metadata": {},
   "source": [
    "### Read the Data"
   ]
  },
  {
   "cell_type": "code",
   "execution_count": 59,
   "id": "2be14990",
   "metadata": {},
   "outputs": [
    {
     "name": "stdout",
     "output_type": "stream",
     "text": [
      "[5.0375 3.44   1.4625 0.2325]\n",
      "[6.01   2.78   4.3175 1.35  ]\n",
      "[6.6225 2.96   5.6075 1.99  ]\n"
     ]
    }
   ],
   "source": [
    "D1 = pd.read_csv('output.csv').to_numpy()\n",
    "Iris_setosa=D1[0]\n",
    "Iris_versicolor=D1[1]\n",
    "Iris_virginica=D1[2]\n",
    "print(Iris_setosa)\n",
    "print(Iris_versicolor)\n",
    "print(Iris_virginica)"
   ]
  },
  {
   "cell_type": "markdown",
   "id": "dc26fd1f",
   "metadata": {},
   "source": [
    "### Predicting for Iris Setosa"
   ]
  },
  {
   "cell_type": "code",
   "execution_count": 60,
   "id": "d9e32d50",
   "metadata": {},
   "outputs": [
    {
     "name": "stdout",
     "output_type": "stream",
     "text": [
      "Predicted Class      Actual Class\n",
      "Iris-setosa          Iris-setosa\n",
      "Iris-setosa          Iris-setosa\n",
      "Iris-setosa          Iris-setosa\n",
      "Iris-setosa          Iris-setosa\n",
      "Iris-setosa          Iris-setosa\n",
      "Iris-setosa          Iris-setosa\n",
      "Iris-setosa          Iris-setosa\n",
      "Iris-setosa          Iris-setosa\n",
      "Iris-setosa          Iris-setosa\n",
      "Iris-setosa          Iris-setosa\n",
      "Accuracy: 100.0%\n"
     ]
    }
   ],
   "source": [
    "print (\"Predicted Class      Actual Class\")\n",
    "count=0\n",
    "true=0\n",
    "for i in range (40,50):\n",
    "    D2=[data[i][1],data[i][2],data[i][3],data[i][4]]\n",
    "    S1=abs(np.sum(D2-Iris_setosa))\n",
    "    S2=abs(np.sum(D2-Iris_versicolor))\n",
    "    S3=abs(np.sum(D2-Iris_virginica))\n",
    "    if S1<S2 and S1<S3:\n",
    "        predict= \"Iris-setosa\"\n",
    "    elif S2<S1 and S2<S3:\n",
    "        predict= \"Iris-versicolor\"\n",
    "    elif S3<S1 and S3<S2:\n",
    "        predict= \"Iris-virginica\"\n",
    "    if predict==data[i][5]:\n",
    "        true+=1\n",
    "    count+=1\n",
    "\n",
    "    print(f\"{predict}          {data[i][5]}\")\n",
    "print(f\"Accuracy: {(true/count)*100}%\")\n"
   ]
  },
  {
   "cell_type": "markdown",
   "id": "d8517cc6",
   "metadata": {},
   "source": [
    "### Predicting for Iris Versicolor"
   ]
  },
  {
   "cell_type": "code",
   "execution_count": 63,
   "id": "775c6d90",
   "metadata": {},
   "outputs": [
    {
     "name": "stdout",
     "output_type": "stream",
     "text": [
      "Iris-versicolor          Iris-versicolor\n",
      "Iris-versicolor          Iris-versicolor\n",
      "Iris-versicolor          Iris-versicolor\n",
      "Iris-setosa          Iris-versicolor\n",
      "Iris-versicolor          Iris-versicolor\n",
      "Iris-versicolor          Iris-versicolor\n",
      "Iris-versicolor          Iris-versicolor\n",
      "Iris-versicolor          Iris-versicolor\n",
      "Iris-setosa          Iris-versicolor\n",
      "Iris-versicolor          Iris-versicolor\n",
      "Accuracy: 80.0%\n"
     ]
    }
   ],
   "source": [
    "y_predict=[]\n",
    "y_true=[]\n",
    "count=0\n",
    "true=0\n",
    "for i in range (90,100):\n",
    "    D2=[data[i][1],data[i][2],data[i][3],data[i][4]]\n",
    "    S1=abs(np.sum(D2-Iris_setosa))\n",
    "    S2=abs(np.sum(D2-Iris_versicolor))\n",
    "    S3=abs(np.sum(D2-Iris_virginica))\n",
    "    if S1<S2 and S1<S3:\n",
    "        predict= \"Iris-setosa\"\n",
    "    elif S2<S1 and S2<S3:\n",
    "        predict= \"Iris-versicolor\"\n",
    "    elif S3<S1 and S3<S2:\n",
    "        predict= \"Iris-virginica\"\n",
    "    if predict==data[i][5]:\n",
    "        true+=1\n",
    "    count+=1\n",
    "\n",
    "    print(f\"{predict}          {data[i][5]}\")\n",
    "print(f\"Accuracy: {(true/count)*100}%\")\n"
   ]
  },
  {
   "cell_type": "markdown",
   "id": "57029f33",
   "metadata": {},
   "source": [
    "### Predicting for Iris Virginica"
   ]
  },
  {
   "cell_type": "code",
   "execution_count": 64,
   "id": "45d00580",
   "metadata": {},
   "outputs": [
    {
     "name": "stdout",
     "output_type": "stream",
     "text": [
      "Predicted Class      Actual Class\n",
      "Iris-virginica          Iris-virginica\n",
      "Iris-virginica          Iris-virginica\n",
      "Iris-versicolor          Iris-virginica\n",
      "Iris-virginica          Iris-virginica\n",
      "Iris-virginica          Iris-virginica\n",
      "Iris-virginica          Iris-virginica\n",
      "Iris-versicolor          Iris-virginica\n",
      "Iris-virginica          Iris-virginica\n",
      "Iris-virginica          Iris-virginica\n",
      "Iris-versicolor          Iris-virginica\n",
      "Accuracy: 70.0%\n"
     ]
    }
   ],
   "source": [
    "print (\"Predicted Class      Actual Class\")\n",
    "count=0\n",
    "true=0\n",
    "for i in range (140,150):\n",
    "    D2=[data[i][1],data[i][2],data[i][3],data[i][4]]\n",
    "    S1=abs(np.sum(D2-Iris_setosa))\n",
    "    S2=abs(np.sum(D2-Iris_versicolor))\n",
    "    S3=abs(np.sum(D2-Iris_virginica))\n",
    "    if S1<S2 and S1<S3:\n",
    "        predict= \"Iris-setosa\"\n",
    "    elif S2<S1 and S2<S3:\n",
    "        predict= \"Iris-versicolor\"\n",
    "    elif S3<S1 and S3<S2:\n",
    "        predict= \"Iris-virginica\"\n",
    "    if predict==data[i][5]:\n",
    "        true+=1\n",
    "    count+=1\n",
    "\n",
    "    print(f\"{predict}          {data[i][5]}\")\n",
    "print(f\"Accuracy: {(true/count)*100}%\")\n"
   ]
  },
  {
   "cell_type": "code",
   "execution_count": null,
   "id": "e9bfda3c",
   "metadata": {},
   "outputs": [],
   "source": []
  }
 ],
 "metadata": {
  "kernelspec": {
   "display_name": "Python 3",
   "language": "python",
   "name": "python3"
  },
  "language_info": {
   "codemirror_mode": {
    "name": "ipython",
    "version": 3
   },
   "file_extension": ".py",
   "mimetype": "text/x-python",
   "name": "python",
   "nbconvert_exporter": "python",
   "pygments_lexer": "ipython3",
   "version": "3.10.11"
  }
 },
 "nbformat": 4,
 "nbformat_minor": 5
}
